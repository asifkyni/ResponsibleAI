{
 "cells": [
  {
   "cell_type": "code",
   "execution_count": 2,
   "id": "bddd8654-1205-483a-ab03-ec38809beda8",
   "metadata": {},
   "outputs": [
    {
     "name": "stdout",
     "output_type": "stream",
     "text": [
      "Excel file '/mnt/d/FY2024/myPython/myJupyterNB/default of credit card clients.xls' successfully converted and saved as CSV file '/mnt/d/FY2024/myPython/myJupyterNB/default_credit_card_clients.csv'.\n"
     ]
    }
   ],
   "source": [
    "import pandas as pd\n",
    "\n",
    "# Replace with your Excel file path\n",
    "excel_file = \"/mnt/d/FY2024/myPython/myJupyterNB/default of credit card clients.xls\"\n",
    "\n",
    "# Load Excel file into Pandas DataFrame\n",
    "df = pd.read_excel(excel_file)\n",
    "\n",
    "# Replace with your desired CSV file path\n",
    "csv_file = \"/mnt/d/FY2024/myPython/myJupyterNB/default_credit_card_clients.csv\"\n",
    "\n",
    "# Export DataFrame to CSV without losing any information\n",
    "df.to_csv(csv_file, index=False)\n",
    "\n",
    "print(f\"Excel file '{excel_file}' successfully converted and saved as CSV file '{csv_file}'.\")\n"
   ]
  },
  {
   "cell_type": "code",
   "execution_count": 3,
   "id": "625b6e88-3ce4-4a82-ac14-ec68c23e8cfe",
   "metadata": {},
   "outputs": [
    {
     "name": "stdout",
     "output_type": "stream",
     "text": [
      "First ten rows of the DataFrame:\n",
      "  Unnamed: 0         X1   X2         X3        X4   X5     X6     X7     X8  \\\n",
      "0         ID  LIMIT_BAL  SEX  EDUCATION  MARRIAGE  AGE  PAY_0  PAY_2  PAY_3   \n",
      "1          1      20000    2          2         1   24      2      2     -1   \n",
      "2          2     120000    2          2         2   26     -1      2      0   \n",
      "3          3      90000    2          2         2   34      0      0      0   \n",
      "4          4      50000    2          2         1   37      0      0      0   \n",
      "5          5      50000    1          2         1   57     -1      0     -1   \n",
      "6          6      50000    1          1         2   37      0      0      0   \n",
      "7          7     500000    1          1         2   29      0      0      0   \n",
      "8          8     100000    2          2         2   23      0     -1     -1   \n",
      "9          9     140000    2          3         1   28      0      0      2   \n",
      "\n",
      "      X9  ...        X15        X16        X17       X18       X19       X20  \\\n",
      "0  PAY_4  ...  BILL_AMT4  BILL_AMT5  BILL_AMT6  PAY_AMT1  PAY_AMT2  PAY_AMT3   \n",
      "1     -1  ...          0          0          0         0       689         0   \n",
      "2      0  ...       3272       3455       3261         0      1000      1000   \n",
      "3      0  ...      14331      14948      15549      1518      1500      1000   \n",
      "4      0  ...      28314      28959      29547      2000      2019      1200   \n",
      "5      0  ...      20940      19146      19131      2000     36681     10000   \n",
      "6      0  ...      19394      19619      20024      2500      1815       657   \n",
      "7      0  ...     542653     483003     473944     55000     40000     38000   \n",
      "8      0  ...        221       -159        567       380       601         0   \n",
      "9      0  ...      12211      11793       3719      3329         0       432   \n",
      "\n",
      "        X21       X22       X23                           Y  \n",
      "0  PAY_AMT4  PAY_AMT5  PAY_AMT6  default payment next month  \n",
      "1         0         0         0                           1  \n",
      "2      1000         0      2000                           1  \n",
      "3      1000      1000      5000                           0  \n",
      "4      1100      1069      1000                           0  \n",
      "5      9000       689       679                           0  \n",
      "6      1000      1000       800                           0  \n",
      "7     20239     13750     13770                           0  \n",
      "8       581      1687      1542                           0  \n",
      "9      1000      1000      1000                           0  \n",
      "\n",
      "[10 rows x 25 columns]\n"
     ]
    }
   ],
   "source": [
    "import pandas as pd\n",
    "\n",
    "# Replace with the path to your saved CSV file\n",
    "csv_file = \"/mnt/d/FY2024/myPython/myJupyterNB/default_credit_card_clients.csv\"\n",
    "\n",
    "# Read CSV file into Pandas DataFrame\n",
    "df = pd.read_csv(csv_file)\n",
    "\n",
    "# Display the first ten rows of the DataFrame\n",
    "print(\"First ten rows of the DataFrame:\")\n",
    "print(df.head(10))\n"
   ]
  },
  {
   "cell_type": "code",
   "execution_count": null,
   "id": "610a2824-ac1a-410f-837b-47b75938e1fa",
   "metadata": {},
   "outputs": [],
   "source": []
  }
 ],
 "metadata": {
  "kernelspec": {
   "display_name": "Python 3 (ipykernel)",
   "language": "python",
   "name": "python3"
  },
  "language_info": {
   "codemirror_mode": {
    "name": "ipython",
    "version": 3
   },
   "file_extension": ".py",
   "mimetype": "text/x-python",
   "name": "python",
   "nbconvert_exporter": "python",
   "pygments_lexer": "ipython3",
   "version": "3.8.19"
  }
 },
 "nbformat": 4,
 "nbformat_minor": 5
}
