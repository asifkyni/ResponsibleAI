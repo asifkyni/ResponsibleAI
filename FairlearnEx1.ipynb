{
 "cells": [
  {
   "cell_type": "code",
   "execution_count": 3,
   "id": "38b2172d-d287-40e4-9833-fb054e53d45b",
   "metadata": {},
   "outputs": [
    {
     "name": "stdout",
     "output_type": "stream",
     "text": [
      "Requirement already satisfied: fairlearn in /home/amehmood/anaconda3/envs/main_env/lib/python3.8/site-packages (0.10.0)\n",
      "Requirement already satisfied: matplotlib in /home/amehmood/anaconda3/envs/main_env/lib/python3.8/site-packages (3.7.2)\n",
      "Requirement already satisfied: numpy>=1.24.4 in /home/amehmood/anaconda3/envs/main_env/lib/python3.8/site-packages (from fairlearn) (1.24.4)\n",
      "Requirement already satisfied: pandas>=2.0.3 in /home/amehmood/anaconda3/envs/main_env/lib/python3.8/site-packages (from fairlearn) (2.0.3)\n",
      "Requirement already satisfied: scikit-learn>=1.2.1 in /home/amehmood/anaconda3/envs/main_env/lib/python3.8/site-packages (from fairlearn) (1.3.2)\n",
      "Requirement already satisfied: scipy>=1.9.3 in /home/amehmood/anaconda3/envs/main_env/lib/python3.8/site-packages (from fairlearn) (1.10.1)\n",
      "Requirement already satisfied: contourpy>=1.0.1 in /home/amehmood/anaconda3/envs/main_env/lib/python3.8/site-packages (from matplotlib) (1.0.2)\n",
      "Requirement already satisfied: cycler>=0.10 in /home/amehmood/anaconda3/envs/main_env/lib/python3.8/site-packages (from matplotlib) (0.12.1)\n",
      "Requirement already satisfied: fonttools>=4.22.0 in /home/amehmood/anaconda3/envs/main_env/lib/python3.8/site-packages (from matplotlib) (4.33.3)\n",
      "Requirement already satisfied: kiwisolver>=1.0.1 in /home/amehmood/anaconda3/envs/main_env/lib/python3.8/site-packages (from matplotlib) (1.4.2)\n",
      "Requirement already satisfied: packaging>=20.0 in /home/amehmood/anaconda3/envs/main_env/lib/python3.8/site-packages (from matplotlib) (24.0)\n",
      "Requirement already satisfied: pillow>=6.2.0 in /home/amehmood/anaconda3/envs/main_env/lib/python3.8/site-packages (from matplotlib) (10.3.0)\n",
      "Requirement already satisfied: pyparsing<3.1,>=2.3.1 in /home/amehmood/anaconda3/envs/main_env/lib/python3.8/site-packages (from matplotlib) (3.0.9)\n",
      "Requirement already satisfied: python-dateutil>=2.7 in /home/amehmood/anaconda3/envs/main_env/lib/python3.8/site-packages (from matplotlib) (2.9.0)\n",
      "Requirement already satisfied: importlib-resources>=3.2.0 in /home/amehmood/anaconda3/envs/main_env/lib/python3.8/site-packages (from matplotlib) (6.4.0)\n",
      "Requirement already satisfied: zipp>=3.1.0 in /home/amehmood/anaconda3/envs/main_env/lib/python3.8/site-packages (from importlib-resources>=3.2.0->matplotlib) (3.17.0)\n",
      "Requirement already satisfied: pytz>=2020.1 in /home/amehmood/anaconda3/envs/main_env/lib/python3.8/site-packages (from pandas>=2.0.3->fairlearn) (2024.1)\n",
      "Requirement already satisfied: tzdata>=2022.1 in /home/amehmood/anaconda3/envs/main_env/lib/python3.8/site-packages (from pandas>=2.0.3->fairlearn) (2024.1)\n",
      "Requirement already satisfied: six>=1.5 in /home/amehmood/anaconda3/envs/main_env/lib/python3.8/site-packages (from python-dateutil>=2.7->matplotlib) (1.16.0)\n",
      "Requirement already satisfied: joblib>=1.1.1 in /home/amehmood/anaconda3/envs/main_env/lib/python3.8/site-packages (from scikit-learn>=1.2.1->fairlearn) (1.4.2)\n",
      "Requirement already satisfied: threadpoolctl>=2.0.0 in /home/amehmood/anaconda3/envs/main_env/lib/python3.8/site-packages (from scikit-learn>=1.2.1->fairlearn) (3.5.0)\n",
      "Note: you may need to restart the kernel to use updated packages.\n"
     ]
    }
   ],
   "source": [
    "pip install fairlearn matplotlib\n"
   ]
  },
  {
   "cell_type": "code",
   "execution_count": 1,
   "id": "055cfdcd-c66d-461a-b5b6-1f2f81c31f3f",
   "metadata": {},
   "outputs": [
    {
     "name": "stdout",
     "output_type": "stream",
     "text": [
      "Pandas DataFrame (X):\n",
      "   age  fnlwgt  education-num  capital-gain  capital-loss  hours-per-week  \\\n",
      "0   25  226802              7             0             0              40   \n",
      "1   38   89814              9             0             0              50   \n",
      "2   28  336951             12             0             0              40   \n",
      "3   44  160323             10          7688             0              40   \n",
      "4   18  103497             10             0             0              30   \n",
      "\n",
      "   workclass_Federal-gov  workclass_Local-gov  workclass_Never-worked  \\\n",
      "0                  False                False                   False   \n",
      "1                  False                False                   False   \n",
      "2                  False                 True                   False   \n",
      "3                  False                False                   False   \n",
      "4                  False                False                   False   \n",
      "\n",
      "   workclass_Private  ...  native-country_Portugal  \\\n",
      "0               True  ...                    False   \n",
      "1               True  ...                    False   \n",
      "2              False  ...                    False   \n",
      "3               True  ...                    False   \n",
      "4              False  ...                    False   \n",
      "\n",
      "   native-country_Puerto-Rico  native-country_Scotland  native-country_South  \\\n",
      "0                       False                    False                 False   \n",
      "1                       False                    False                 False   \n",
      "2                       False                    False                 False   \n",
      "3                       False                    False                 False   \n",
      "4                       False                    False                 False   \n",
      "\n",
      "   native-country_Taiwan  native-country_Thailand  \\\n",
      "0                  False                    False   \n",
      "1                  False                    False   \n",
      "2                  False                    False   \n",
      "3                  False                    False   \n",
      "4                  False                    False   \n",
      "\n",
      "   native-country_Trinadad&Tobago  native-country_United-States  \\\n",
      "0                           False                          True   \n",
      "1                           False                          True   \n",
      "2                           False                          True   \n",
      "3                           False                          True   \n",
      "4                           False                          True   \n",
      "\n",
      "   native-country_Vietnam  native-country_Yugoslavia  \n",
      "0                   False                      False  \n",
      "1                   False                      False  \n",
      "2                   False                      False  \n",
      "3                   False                      False  \n",
      "4                   False                      False  \n",
      "\n",
      "[5 rows x 105 columns]\n"
     ]
    },
    {
     "data": {
      "image/png": "[encoded data removed]",
      "text/plain": [
       "<Figure size 640x480 with 1 Axes>"
      ]
     },
     "metadata": {},
     "output_type": "display_data"
    }
   ],
   "source": [
    "#some testing here by AM\n",
    "import numpy as np\n",
    "import pandas as pd\n",
    "import matplotlib.pyplot as plt\n",
    "from fairlearn.datasets import fetch_adult\n",
    "\n",
    "# Fetch the adult dataset\n",
    "data = fetch_adult(as_frame=True)\n",
    "\n",
    "# Convert features to Pandas DataFrame with one-hot encoding\n",
    "X = pd.get_dummies(data.data)\n",
    "\n",
    "# Target variable: convert to binary classification ('>50K' as 1, '<=50K' as 0)\n",
    "y_true = (data.target == '>50K') * 1\n",
    "\n",
    "# Display the Pandas DataFrame and head\n",
    "print(\"Pandas DataFrame (X):\")\n",
    "print(X.head())\n",
    "\n",
    "# Example visualization (optional)\n",
    "plt.hist(y_true)\n",
    "plt.xlabel('Income >50K')\n",
    "plt.ylabel('Count')\n",
    "plt.title('Distribution of Income')\n",
    "plt.show()\n"
   ]
  },
  {
   "cell_type": "code",
   "execution_count": 4,
   "id": "165407ca-fb54-48e5-962a-09650dfa37bc",
   "metadata": {},
   "outputs": [
    {
     "data": {
      "text/plain": [
       "sex\n",
       "Male      32650\n",
       "Female    16192\n",
       "Name: count, dtype: int64"
      ]
     },
     "execution_count": 4,
     "metadata": {},
     "output_type": "execute_result"
    }
   ],
   "source": [
    "import numpy as np\n",
    "import pandas as pd\n",
    "import matplotlib.pyplot as plt\n",
    "from fairlearn.datasets import fetch_adult\n",
    "data = fetch_adult(as_frame=True)\n",
    "\n",
    "X = pd.get_dummies(data.data)\n",
    "y_true = (data.target == '>50K') * 1\n",
    "sex = data.data['sex']\n",
    "sex.value_counts()"
   ]
  },
  {
   "cell_type": "markdown",
   "id": "73b8975d-7b80-43e9-81ef-4038e4f15bf6",
   "metadata": {},
   "source": [
    "## Model Bias Detection and Mitigation using Fairlearn\n",
    "In this example, we'll use the Adult dataset from the UCI Machine Learning Repository to demonstrate how to detect and mitigate model bias. We'll explore bias based on the 'sex' attribute and apply different techniques to address any detected bias. We'll use Fairlearn and other tools for bias detection and mitigation."
   ]
  },
  {
   "cell_type": "code",
   "execution_count": 8,
   "id": "dd9b50e6-2299-4645-94be-d464711d5177",
   "metadata": {},
   "outputs": [
    {
     "name": "stdout",
     "output_type": "stream",
     "text": [
      "sex\n",
      "Male      32650\n",
      "Female    16192\n",
      "Name: count, dtype: int64\n"
     ]
    }
   ],
   "source": [
    "import numpy as np\n",
    "import pandas as pd\n",
    "import matplotlib.pyplot as plt\n",
    "from fairlearn.datasets import fetch_adult\n",
    "\n",
    "# Load the dataset\n",
    "data = fetch_adult(as_frame=True)\n",
    "X = pd.get_dummies(data.data)\n",
    "y_true = (data.target == '>50K') * 1\n",
    "sex = data.data['sex']\n",
    "\n",
    "# Check the distribution of the sensitive attribute\n",
    "print(sex.value_counts())\n"
   ]
  },
  {
   "cell_type": "markdown",
   "id": "229fd5af-eee2-49d1-8940-5d4e07218430",
   "metadata": {},
   "source": [
    "### Step 1: Load and Prepare the Data\n"
   ]
  },
  {
   "cell_type": "code",
   "execution_count": 15,
   "id": "ef1b711c-d522-41a8-8fcc-2a30c1aa4f54",
   "metadata": {},
   "outputs": [
    {
     "name": "stdout",
     "output_type": "stream",
     "text": [
      "sex\n",
      "Male      32650\n",
      "Female    16192\n",
      "Name: count, dtype: int64\n"
     ]
    }
   ],
   "source": [
    "import numpy as np\n",
    "import pandas as pd\n",
    "import matplotlib.pyplot as plt\n",
    "from fairlearn.datasets import fetch_adult\n",
    "\n",
    "# Load the dataset\n",
    "data = fetch_adult(as_frame=True)\n",
    "X = pd.get_dummies(data.data)\n",
    "y_true = (data.target == '>50K') * 1\n",
    "sex = data.data['sex']\n",
    "\n",
    "# Check the distribution of the sensitive attribute\n",
    "print(sex.value_counts())\n"
   ]
  },
  {
   "cell_type": "markdown",
   "id": "ecabe50b-5d4d-45bd-b54c-379b5a79d6b6",
   "metadata": {},
   "source": [
    "### Step 2: Train Initial Model\n",
    "\n",
    "We train an initial Logistic Regression model to establish a baseline."
   ]
  },
  {
   "cell_type": "code",
   "execution_count": 16,
   "id": "6f0767f5-12d9-4076-9c8a-ab406543157b",
   "metadata": {},
   "outputs": [
    {
     "name": "stdout",
     "output_type": "stream",
     "text": [
      "Accuracy: 0.796901658363475\n",
      "              precision    recall  f1-score   support\n",
      "\n",
      "           0       0.80      0.97      0.88     11147\n",
      "           1       0.71      0.25      0.37      3506\n",
      "\n",
      "    accuracy                           0.80     14653\n",
      "   macro avg       0.76      0.61      0.63     14653\n",
      "weighted avg       0.78      0.80      0.76     14653\n",
      "\n"
     ]
    }
   ],
   "source": [
    "from sklearn.linear_model import LogisticRegression\n",
    "from sklearn.model_selection import train_test_split\n",
    "from sklearn.metrics import accuracy_score, classification_report\n",
    "\n",
    "# Split the data into train and test sets\n",
    "X_train, X_test, y_train, y_test, sex_train, sex_test = train_test_split(X, y_true, sex, test_size=0.3, random_state=0, stratify=y_true)\n",
    "\n",
    "# Train a Logistic Regression model\n",
    "model = LogisticRegression(solver='liblinear')\n",
    "model.fit(X_train, y_train)\n",
    "\n",
    "# Predict and evaluate\n",
    "y_pred = model.predict(X_test)\n",
    "print(\"Accuracy:\", accuracy_score(y_test, y_pred))\n",
    "print(classification_report(y_test, y_pred))\n"
   ]
  },
  {
   "cell_type": "markdown",
   "id": "5ca15d1d-e82b-4a1c-900d-1a238b98ff97",
   "metadata": {},
   "source": [
    "### Step 3: Detect Bias using Fairlearn\n",
    "\n",
    "We'll check for fairness issues using metrics such as demographic parity and equalized odds."
   ]
  },
  {
   "cell_type": "code",
   "execution_count": 19,
   "id": "fdc892be-7b0e-4437-85d5-f005b5dfd8f7",
   "metadata": {},
   "outputs": [
    {
     "ename": "TypeError",
     "evalue": "demographic_parity_difference() missing 1 required keyword-only argument: 'sensitive_features'",
     "output_type": "error",
     "traceback": [
      "\u001b[0;31m---------------------------------------------------------------------------\u001b[0m",
      "\u001b[0;31mTypeError\u001b[0m                                 Traceback (most recent call last)",
      "Cell \u001b[0;32mIn[19], line 22\u001b[0m\n\u001b[1;32m     19\u001b[0m y_true_test \u001b[38;5;241m=\u001b[39m y_test\u001b[38;5;241m.\u001b[39mreset_index(drop\u001b[38;5;241m=\u001b[39m\u001b[38;5;28;01mTrue\u001b[39;00m)\n\u001b[1;32m     20\u001b[0m sex_test \u001b[38;5;241m=\u001b[39m sex_test\u001b[38;5;241m.\u001b[39mreset_index(drop\u001b[38;5;241m=\u001b[39m\u001b[38;5;28;01mTrue\u001b[39;00m)\n\u001b[0;32m---> 22\u001b[0m metric_frame \u001b[38;5;241m=\u001b[39m \u001b[43mMetricFrame\u001b[49m\u001b[43m(\u001b[49m\u001b[43mmetrics\u001b[49m\u001b[38;5;241;43m=\u001b[39;49m\u001b[43mmetrics\u001b[49m\u001b[43m,\u001b[49m\u001b[43m \u001b[49m\u001b[43my_true\u001b[49m\u001b[38;5;241;43m=\u001b[39;49m\u001b[43my_true_test\u001b[49m\u001b[43m,\u001b[49m\u001b[43m \u001b[49m\u001b[43my_pred\u001b[49m\u001b[38;5;241;43m=\u001b[39;49m\u001b[43my_pred\u001b[49m\u001b[43m,\u001b[49m\u001b[43m \u001b[49m\u001b[43msensitive_features\u001b[49m\u001b[38;5;241;43m=\u001b[39;49m\u001b[43msex_test\u001b[49m\u001b[43m)\u001b[49m\n\u001b[1;32m     23\u001b[0m \u001b[38;5;28mprint\u001b[39m(metric_frame\u001b[38;5;241m.\u001b[39mby_group)\n",
      "File \u001b[0;32m~/anaconda3/envs/main_env/lib/python3.8/site-packages/fairlearn/metrics/_metric_frame.py:280\u001b[0m, in \u001b[0;36mMetricFrame.__init__\u001b[0;34m(self, metrics, y_true, y_pred, sensitive_features, control_features, sample_params, n_boot, ci_quantiles, random_state)\u001b[0m\n\u001b[1;32m    277\u001b[0m \u001b[38;5;28mself\u001b[39m\u001b[38;5;241m.\u001b[39m_result_cache \u001b[38;5;241m=\u001b[39m \u001b[38;5;28mdict\u001b[39m()\n\u001b[1;32m    279\u001b[0m \u001b[38;5;66;03m# Create the basic results\u001b[39;00m\n\u001b[0;32m--> 280\u001b[0m result \u001b[38;5;241m=\u001b[39m \u001b[43mDisaggregatedResult\u001b[49m\u001b[38;5;241;43m.\u001b[39;49m\u001b[43mcreate\u001b[49m\u001b[43m(\u001b[49m\n\u001b[1;32m    281\u001b[0m \u001b[43m    \u001b[49m\u001b[43mdata\u001b[49m\u001b[38;5;241;43m=\u001b[39;49m\u001b[43mall_data\u001b[49m\u001b[43m,\u001b[49m\n\u001b[1;32m    282\u001b[0m \u001b[43m    \u001b[49m\u001b[43mannotated_functions\u001b[49m\u001b[38;5;241;43m=\u001b[39;49m\u001b[43mannotated_funcs\u001b[49m\u001b[43m,\u001b[49m\n\u001b[1;32m    283\u001b[0m \u001b[43m    \u001b[49m\u001b[43msensitive_feature_names\u001b[49m\u001b[38;5;241;43m=\u001b[39;49m\u001b[38;5;28;43mself\u001b[39;49m\u001b[38;5;241;43m.\u001b[39;49m\u001b[43m_sf_names\u001b[49m\u001b[43m,\u001b[49m\n\u001b[1;32m    284\u001b[0m \u001b[43m    \u001b[49m\u001b[43mcontrol_feature_names\u001b[49m\u001b[38;5;241;43m=\u001b[39;49m\u001b[38;5;28;43mself\u001b[39;49m\u001b[38;5;241;43m.\u001b[39;49m\u001b[43m_cf_names\u001b[49m\u001b[43m,\u001b[49m\n\u001b[1;32m    285\u001b[0m \u001b[43m\u001b[49m\u001b[43m)\u001b[49m\n\u001b[1;32m    286\u001b[0m \u001b[38;5;66;03m# Build into cache\u001b[39;00m\n\u001b[1;32m    287\u001b[0m \u001b[38;5;28mself\u001b[39m\u001b[38;5;241m.\u001b[39m_populate_results(result)\n",
      "File \u001b[0;32m~/anaconda3/envs/main_env/lib/python3.8/site-packages/fairlearn/metrics/_disaggregated_result.py:363\u001b[0m, in \u001b[0;36mDisaggregatedResult.create\u001b[0;34m(data, annotated_functions, sensitive_feature_names, control_feature_names)\u001b[0m\n\u001b[1;32m    361\u001b[0m \u001b[38;5;66;03m# Calculate the 'overall' values\u001b[39;00m\n\u001b[1;32m    362\u001b[0m \u001b[38;5;28;01mif\u001b[39;00m control_feature_names \u001b[38;5;129;01mis\u001b[39;00m \u001b[38;5;28;01mNone\u001b[39;00m:\n\u001b[0;32m--> 363\u001b[0m     overall \u001b[38;5;241m=\u001b[39m \u001b[43mapply_to_dataframe\u001b[49m\u001b[43m(\u001b[49m\u001b[43mdata\u001b[49m\u001b[43m,\u001b[49m\u001b[43m \u001b[49m\u001b[43mmetric_functions\u001b[49m\u001b[38;5;241;43m=\u001b[39;49m\u001b[43mannotated_functions\u001b[49m\u001b[43m)\u001b[49m\n\u001b[1;32m    364\u001b[0m \u001b[38;5;28;01melse\u001b[39;00m:\n\u001b[1;32m    365\u001b[0m     temp \u001b[38;5;241m=\u001b[39m data\u001b[38;5;241m.\u001b[39mgroupby(by\u001b[38;5;241m=\u001b[39mcontrol_feature_names)\u001b[38;5;241m.\u001b[39mapply(\n\u001b[1;32m    366\u001b[0m         apply_to_dataframe, metric_functions\u001b[38;5;241m=\u001b[39mannotated_functions\n\u001b[1;32m    367\u001b[0m     )\n",
      "File \u001b[0;32m~/anaconda3/envs/main_env/lib/python3.8/site-packages/fairlearn/metrics/_disaggregated_result.py:52\u001b[0m, in \u001b[0;36mapply_to_dataframe\u001b[0;34m(data, metric_functions)\u001b[0m\n\u001b[1;32m     50\u001b[0m values \u001b[38;5;241m=\u001b[39m \u001b[38;5;28mdict\u001b[39m()\n\u001b[1;32m     51\u001b[0m \u001b[38;5;28;01mfor\u001b[39;00m function_name, metric_function \u001b[38;5;129;01min\u001b[39;00m metric_functions\u001b[38;5;241m.\u001b[39mitems():\n\u001b[0;32m---> 52\u001b[0m     values[function_name] \u001b[38;5;241m=\u001b[39m \u001b[43mmetric_function\u001b[49m\u001b[43m(\u001b[49m\u001b[43mdata\u001b[49m\u001b[43m)\u001b[49m\n\u001b[1;32m     53\u001b[0m \u001b[38;5;66;03m# correctly handle zero provided metrics\u001b[39;00m\n\u001b[1;32m     54\u001b[0m \u001b[38;5;28;01mif\u001b[39;00m \u001b[38;5;28mlen\u001b[39m(values) \u001b[38;5;241m==\u001b[39m \u001b[38;5;241m0\u001b[39m:\n",
      "File \u001b[0;32m~/anaconda3/envs/main_env/lib/python3.8/site-packages/fairlearn/metrics/_annotated_metric_function.py:106\u001b[0m, in \u001b[0;36mAnnotatedMetricFunction.__call__\u001b[0;34m(self, df)\u001b[0m\n\u001b[1;32m    102\u001b[0m \u001b[38;5;28;01mfor\u001b[39;00m func_arg_name, data_arg_name \u001b[38;5;129;01min\u001b[39;00m \u001b[38;5;28mself\u001b[39m\u001b[38;5;241m.\u001b[39mkw_argument_mapping\u001b[38;5;241m.\u001b[39mitems():\n\u001b[1;32m    103\u001b[0m     \u001b[38;5;66;03m# Need to convert to list first in case we have 2D arrays\u001b[39;00m\n\u001b[1;32m    104\u001b[0m     kwargs[func_arg_name] \u001b[38;5;241m=\u001b[39m np\u001b[38;5;241m.\u001b[39masarray(\u001b[38;5;28mlist\u001b[39m(df[data_arg_name]))\n\u001b[0;32m--> 106\u001b[0m result \u001b[38;5;241m=\u001b[39m \u001b[38;5;28;43mself\u001b[39;49m\u001b[38;5;241;43m.\u001b[39;49m\u001b[43mfunc\u001b[49m\u001b[43m(\u001b[49m\u001b[38;5;241;43m*\u001b[39;49m\u001b[43margs\u001b[49m\u001b[43m,\u001b[49m\u001b[43m \u001b[49m\u001b[38;5;241;43m*\u001b[39;49m\u001b[38;5;241;43m*\u001b[39;49m\u001b[43mkwargs\u001b[49m\u001b[43m)\u001b[49m\n\u001b[1;32m    108\u001b[0m \u001b[38;5;28;01mreturn\u001b[39;00m result\n",
      "Cell \u001b[0;32mIn[19], line 6\u001b[0m, in \u001b[0;36mdemographic_parity_diff\u001b[0;34m(y_true, y_pred, **kwargs)\u001b[0m\n\u001b[1;32m      5\u001b[0m \u001b[38;5;28;01mdef\u001b[39;00m \u001b[38;5;21mdemographic_parity_diff\u001b[39m(y_true, y_pred, \u001b[38;5;241m*\u001b[39m\u001b[38;5;241m*\u001b[39mkwargs):\n\u001b[0;32m----> 6\u001b[0m     \u001b[38;5;28;01mreturn\u001b[39;00m \u001b[43mdemographic_parity_difference\u001b[49m\u001b[43m(\u001b[49m\u001b[43my_true\u001b[49m\u001b[43m,\u001b[49m\u001b[43m \u001b[49m\u001b[43my_pred\u001b[49m\u001b[43m,\u001b[49m\u001b[43m \u001b[49m\u001b[38;5;241;43m*\u001b[39;49m\u001b[38;5;241;43m*\u001b[39;49m\u001b[43mkwargs\u001b[49m\u001b[43m)\u001b[49m\n",
      "\u001b[0;31mTypeError\u001b[0m: demographic_parity_difference() missing 1 required keyword-only argument: 'sensitive_features'"
     ]
    }
   ],
   "source": [
    "from fairlearn.metrics import MetricFrame\n",
    "from fairlearn.metrics import demographic_parity_difference, equalized_odds_difference\n",
    "\n",
    "# Custom wrapper functions for metrics\n",
    "def demographic_parity_diff(y_true, y_pred, **kwargs):\n",
    "    return demographic_parity_difference(y_true, y_pred, **kwargs)\n",
    "\n",
    "def equalized_odds_diff(y_true, y_pred, **kwargs):\n",
    "    return equalized_odds_difference(y_true, y_pred, **kwargs)\n",
    "\n",
    "# Calculate fairness metrics\n",
    "metrics = {\n",
    "    'accuracy': accuracy_score,\n",
    "    'demographic_parity_difference': demographic_parity_diff,\n",
    "    'equalized_odds_difference': equalized_odds_diff\n",
    "}\n",
    "\n",
    "# Ensure sensitive features match y_true\n",
    "y_true_test = y_test.reset_index(drop=True)\n",
    "sex_test = sex_test.reset_index(drop=True)\n",
    "\n",
    "metric_frame = MetricFrame(metrics=metrics, y_true=y_true_test, y_pred=y_pred, sensitive_features=sex_test)\n",
    "print(metric_frame.by_group)\n"
   ]
  },
  {
   "cell_type": "code",
   "execution_count": null,
   "id": "db67bd2d-1bc6-411c-bbf0-bde3c1bef93d",
   "metadata": {},
   "outputs": [],
   "source": [
    "#Revised Full Code\n",
    "import numpy as np\n",
    "import pandas as pd\n",
    "import matplotlib.pyplot as plt\n",
    "from sklearn.linear_model import LogisticRegression\n",
    "from sklearn.model_selection import train_test_split\n",
    "from sklearn.metrics import accuracy_score, classification_report\n",
    "from fairlearn.metrics import MetricFrame\n",
    "from fairlearn.metrics import demographic_parity_difference, equalized_odds_difference\n",
    "\n",
    "# Assuming 'adult.csv' is located in the same directory as your script\n",
    "file_path = \"adult.csv\"\n",
    "\n",
    "# Read CSV file into Pandas DataFrame\n",
    "X = pd.read_csv(file_path)\n",
    "\n",
    "# Display the first few rows of the DataFrame\n",
    "print(\"Pandas DataFrame (X):\")\n",
    "print(X.head())\n",
    "\n",
    "# Count the number of males and females in the 'Gender' column\n",
    "gender_counts = X['Gender'].value_counts()\n",
    "print(\"\\nGender Counts:\")\n",
    "print(gender_counts)\n",
    "\n",
    "# Extract the target variable\n",
    "y_true = (X['income'] == '>50K').astype(int)\n",
    "\n",
    "# Convert categorical columns to numerical using one-hot encoding, excluding 'income' and 'Gender'\n",
    "X_encoded = pd.get_dummies(X.drop(['income', 'Gender'], axis=1))\n",
    "\n",
    "# Include the target and 'Gender' columns\n",
    "X_encoded['income'] = y_true\n",
    "X_encoded['Gender'] = X['Gender']\n",
    "\n",
    "# Split the data into train and test sets, stratified by the target variable\n",
    "X_train, X_test, y_train, y_test = train_test_split(X_encoded.drop('income', axis=1), y_true, test_size=0.3, random_state=0, stratify=y_true)\n",
    "\n",
    "# Extract the 'Gender' column as the sensitive feature\n",
    "sex_train = X_train['Gender']\n",
    "sex_test = X_test['Gender']\n",
    "\n",
    "# Drop the 'Gender' column from the training and test sets\n",
    "X_train = X_train.drop('Gender', axis=1)\n",
    "X_test = X_test.drop('Gender', axis=1)\n",
    "\n",
    "# Train a Logistic Regression model\n",
    "model = LogisticRegression(solver='liblinear')\n",
    "model.fit(X_train, y_train)\n",
    "\n",
    "# Predict and evaluate\n",
    "y_pred = model.predict(X_test)\n",
    "print(\"Accuracy:\", accuracy_score(y_test, y_pred))\n",
    "print(classification_report(y_test, y_pred))\n",
    "\n",
    "# Custom wrapper functions for metrics\n",
    "def demographic_parity_diff(y_true, y_pred, **kwargs):\n",
    "    return demographic_parity_difference(y_true, y_pred, **kwargs)\n",
    "\n",
    "def equalized_odds_diff(y_true, y_pred, **kwargs):\n",
    "    return equalized_odds_difference(y_true, y_pred, **kwargs)\n",
    "\n",
    "# Calculate fairness metrics\n",
    "metrics = {\n",
    "    'accuracy': accuracy_score,\n",
    "    'demographic_parity_difference': demographic_parity_diff,\n",
    "    'equalized_odds_difference': equalized_odds_diff\n",
    "}\n",
    "\n",
    "# Ensure sensitive features match y_true\n",
    "y_true_test = y_test.reset_index(drop=True)\n",
    "sex_test = sex_test.reset_index(drop=True)\n",
    "\n",
    "metric_frame = MetricFrame(metrics=metrics, y_true=y_true_test, y_pred=y_pred, sensitive_features=sex_test)\n",
    "print(metric_frame.by_group)\n"
   ]
  }
 ],
 "metadata": {
  "kernelspec": {
   "display_name": "Python 3 (ipykernel)",
   "language": "python",
   "name": "python3"
  },
  "language_info": {
   "codemirror_mode": {
    "name": "ipython",
    "version": 3
   },
   "file_extension": ".py",
   "mimetype": "text/x-python",
   "name": "python",
   "nbconvert_exporter": "python",
   "pygments_lexer": "ipython3",
   "version": "3.8.19"
  }
 },
 "nbformat": 4,
 "nbformat_minor": 5
}
