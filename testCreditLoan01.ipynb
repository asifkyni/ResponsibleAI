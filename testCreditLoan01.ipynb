{
 "cells": [
  {
   "cell_type": "code",
   "execution_count": 2,
   "id": "1afd0a34-69e4-4945-b185-671675853b43",
   "metadata": {},
   "outputs": [
    {
     "name": "stdout",
     "output_type": "stream",
     "text": [
      "Requirement already satisfied: lightgbm in /home/amehmood/anaconda3/envs/main_env/lib/python3.8/site-packages (4.4.0)\n",
      "Requirement already satisfied: numpy>=1.17.0 in /home/amehmood/anaconda3/envs/main_env/lib/python3.8/site-packages (from lightgbm) (1.24.4)\n",
      "Requirement already satisfied: scipy in /home/amehmood/anaconda3/envs/main_env/lib/python3.8/site-packages (from lightgbm) (1.10.1)\n",
      "Note: you may need to restart the kernel to use updated packages.\n"
     ]
    }
   ],
   "source": [
    "%pip install lightgbm\n"
   ]
  },
  {
   "cell_type": "code",
   "execution_count": 3,
   "id": "0c595b1a-0208-48a9-a3bc-efea5a184e60",
   "metadata": {},
   "outputs": [
    {
     "name": "stdout",
     "output_type": "stream",
     "text": [
      "Note: you may need to restart the kernel to use updated packages.\n"
     ]
    }
   ],
   "source": [
    "%pip  install  xlrd>=2.0.1\n"
   ]
  },
  {
   "cell_type": "code",
   "execution_count": 14,
   "id": "2af48d11-2f2e-40b0-80ae-5a19d564c570",
   "metadata": {},
   "outputs": [],
   "source": [
    "import numpy as np\n",
    "import pandas as pd\n",
    "import matplotlib.pyplot as plt\n",
    "\n",
    "import lightgbm as lgb\n",
    "from sklearn.metrics import balanced_accuracy_score, roc_auc_score\n",
    "from sklearn.metrics import confusion_matrix\n",
    "from sklearn.pipeline import Pipeline\n",
    "from sklearn.preprocessing import StandardScaler\n",
    "from fairlearn.metrics import MetricFrame\n",
    "from fairlearn.metrics import (\n",
    "    count,\n",
    "    selection_rate,\n",
    "    equalized_odds_difference,\n",
    "    false_positive_rate,\n",
    "    false_negative_rate,\n",
    ")\n",
    "from fairlearn.postprocessing import ThresholdOptimizer\n",
    "from fairlearn.reductions import ExponentiatedGradient\n",
    "from fairlearn.reductions import EqualizedOdds\n",
    "from sklearn.model_selection import train_test_split\n",
    "import warnings\n",
    "\n",
    "warnings.simplefilter(\"ignore\")\n",
    "\n",
    "rand_seed = 1234\n",
    "np.random.seed(rand_seed)"
   ]
  },
  {
   "cell_type": "code",
   "execution_count": 2,
   "id": "e2e119aa-7056-4963-914a-2d7811b8ad51",
   "metadata": {},
   "outputs": [
    {
     "data": {
      "text/plain": [
       "(30000, 24)"
      ]
     },
     "execution_count": 2,
     "metadata": {},
     "output_type": "execute_result"
    }
   ],
   "source": [
    "# data_url = \"http://archive.ics.uci.edu/ml/machine-learning-databases/00350/default%20of%20credit%20card%20clients.xls\"\n",
    "# dataset = (\n",
    "#     pd.read_excel(io=data_url, header=1)\n",
    "#     .drop(columns=[\"ID\"])\n",
    "#     .rename(\n",
    "#         columns={\"PAY_0\": \"PAY_1\", \"default payment next month\": \"default\"}\n",
    "#     )\n",
    "# )\n",
    "\n",
    "# dataset.shape"
   ]
  },
  {
   "cell_type": "code",
   "execution_count": 16,
   "id": "87b1aa1a-8d3c-4b91-8678-46fa7bdb1898",
   "metadata": {},
   "outputs": [
    {
     "name": "stderr",
     "output_type": "stream",
     "text": [
      "24/07/22 23:14:09 WARN Utils: Service 'SparkUI' could not bind on port 4040. Attempting port 4041.\n",
      "24/07/22 23:14:09 WARN Utils: Service 'SparkUI' could not bind on port 4041. Attempting port 4042.\n",
      "24/07/22 23:14:09 WARN Utils: Service 'SparkUI' could not bind on port 4042. Attempting port 4043.\n"
     ]
    },
    {
     "name": "stdout",
     "output_type": "stream",
     "text": [
      "Transformed DataFrame shape: (30000, 24)\n"
     ]
    }
   ],
   "source": [
    "from pyspark.sql import SparkSession\n",
    "import pandas as pd\n",
    "\n",
    "# Initialize a Spark session\n",
    "spark = SparkSession.builder \\\n",
    "    .appName(\"Read and Convert CSV\") \\\n",
    "    .getOrCreate()\n",
    "\n",
    "# Path to the downloaded CSV file\n",
    "csv_path = '/mnt/d/FY2024/myPython/myJupyterNB/credit_card_clients.csv'\n",
    "\n",
    "# Read the CSV file into a PySpark DataFrame\n",
    "spark_df = spark.read.csv(csv_path, header=True, inferSchema=True)\n",
    "\n",
    "# Convert the PySpark DataFrame to a Pandas DataFrame\n",
    "pandas_df = spark_df.toPandas()\n",
    "\n",
    "# Perform the same data manipulations as in the snippet\n",
    "dataset = (\n",
    "    pandas_df\n",
    "    .drop(columns=[\"ID\"])  # Drop the column if it exists\n",
    "    .rename(\n",
    "        columns={\"PAY_0\": \"PAY_1\", \"default payment next month\": \"default\"}  # Rename columns if necessary\n",
    "    )\n",
    ")\n",
    "\n",
    "# Check the shape of the transformed DataFrame\n",
    "print(\"Transformed DataFrame shape:\", dataset.shape)\n",
    "\n",
    "# Display the first few rows of the transformed DataFrame\n",
    "# print(\"\\nFirst few rows of the transformed DataFrame:\\n\", dataset.head())\n",
    "\n",
    "# Stop the Spark session\n",
    "spark.stop()\n"
   ]
  },
  {
   "cell_type": "code",
   "execution_count": 13,
   "id": "4518ccab-64d5-47ee-8e57-6291b4306c51",
   "metadata": {},
   "outputs": [
    {
     "data": {
      "text/plain": [
       "(30000, 24)"
      ]
     },
     "execution_count": 13,
     "metadata": {},
     "output_type": "execute_result"
    }
   ],
   "source": [
    "dataset.shape"
   ]
  },
  {
   "cell_type": "code",
   "execution_count": null,
   "id": "58bbad68-b5ec-4650-82ad-063cea8b046e",
   "metadata": {},
   "outputs": [],
   "source": []
  }
 ],
 "metadata": {
  "kernelspec": {
   "display_name": "Python 3 (ipykernel)",
   "language": "python",
   "name": "python3"
  },
  "language_info": {
   "codemirror_mode": {
    "name": "ipython",
    "version": 3
   },
   "file_extension": ".py",
   "mimetype": "text/x-python",
   "name": "python",
   "nbconvert_exporter": "python",
   "pygments_lexer": "ipython3",
   "version": "3.8.19"
  }
 },
 "nbformat": 4,
 "nbformat_minor": 5
}
